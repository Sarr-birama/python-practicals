{
 "cells": [
  {
   "cell_type": "markdown",
   "metadata": {},
   "source": [
    "<center>\n",
    "    <a href=\"https://www.aims-senegal.org/\" ><img src=\"aimssn_logo.png\" style=\"float:center; max-width: 600px; display: inline\" alt=\"IMSP\"/> </a>\n",
    "    </center>\n",
    "    \n",
    "#    <center> <b> <span style=\"color:orange;\" >  `Python for Scientific Computing and Software Engineering ` </span> </b></center>\n",
    "\n",
    "\n",
    "## <center> <b> <span style=\"color:orange;\"> An Initiation to Programming using Python (Init2Py) </span> </b></center>\n",
    "\n",
    "### <center> <b> <span style=\"color:blue;\"> Practicals: Variables, Types & Operations </span> </b></center>"
   ]
  },
  {
   "cell_type": "markdown",
   "metadata": {},
   "source": [
    "**Exercise 00:**  \n",
    "\n",
    "> 1. Declare a variable `firstname` and assign it a value.\n",
    "> 2. Declare a `lastname` variable and assign a value to it.\n",
    "> 3. Declare a `full_name` variable and assign it a value.\n",
    "> 4. Declare a `country` variable and assign it a value.\n",
    "> 5. Declare a variable `city` and assign it a value.\n",
    "> 6. Declare a `age` variable and assign it a value.\n",
    "> 7. Declare a variable `year` and assign it a value.\n",
    "> 8. Declare a variable `is_marrie` and assign it a value.\n",
    "> 9. Declare a variable `is_true` and assign it a value.\n",
    "\n",
    "> For each of the above variable, display the value it contains using the `print()` function.\n",
    "\n",
    "\n"
   ]
  },
  {
   "cell_type": "code",
   "execution_count": 1,
   "metadata": {},
   "outputs": [
    {
     "name": "stdout",
     "output_type": "stream",
     "text": [
      "Sarr Birama Senegal Dakar 30 2021 No yes\n"
     ]
    }
   ],
   "source": [
    "firstname = \"Sarr\"\n",
    "lastname = \"Birama\"\n",
    "country = \"Senegal\"\n",
    "city = 'Dakar'\n",
    "age = 30\n",
    "year = 2021\n",
    "is_marrie = \"No\"\n",
    "is_true = \"yes\"\n",
    "print(firstname,lastname,country,city,age,year,is_marrie,is_true)\n"
   ]
  },
  {
   "cell_type": "markdown",
   "metadata": {},
   "source": [
    "**Exercise 01:** \n",
    "> Check the data type of all your variables using the built-in function `type()`.**\n"
   ]
  },
  {
   "cell_type": "code",
   "execution_count": 2,
   "metadata": {},
   "outputs": [
    {
     "data": {
      "text/plain": [
       "str"
      ]
     },
     "execution_count": 2,
     "metadata": {},
     "output_type": "execute_result"
    }
   ],
   "source": [
    "type(firstname)\n",
    "type(lastname)\n",
    "type(country)\n",
    "type(city)\n",
    "type(age)\n",
    "type(year)\n",
    "type(is_marrie)\n",
    "type(is_true) \n"
   ]
  },
  {
   "cell_type": "markdown",
   "metadata": {},
   "source": [
    "**Exercise 02:** \n",
    "> Calculate the value of $y$ ($y = x^2 + 6x + 9$). Try using different values of $x$ and determine at what value of $x$ will $y$ be equal to 0.**"
   ]
  },
  {
   "cell_type": "code",
   "execution_count": 3,
   "metadata": {},
   "outputs": [
    {
     "name": "stdout",
     "output_type": "stream",
     "text": [
      "Donner une valeur pour X7\n",
      "y =  100\n"
     ]
    }
   ],
   "source": [
    "X = int(input(\"Donner une valeur pour X\"))\n",
    "print(\"y = \",X**2+6*X+9)\n"
   ]
  },
  {
   "cell_type": "markdown",
   "metadata": {},
   "source": [
    "ag = int(27)\n",
    "height= float(1.85)\n",
    "Base = int(input(\"Donner la base de votre triangfe\"))\n",
    "Hauteur = int(input(\"Donner la hauteur de votre triangfe\"))\n",
    "Air = (Base*Hauteur)/2\n",
    "print(Air)\n",
    "\n"
   ]
  },
  {
   "cell_type": "markdown",
   "metadata": {},
   "source": [
    "## *Tip: receiving input from the user *\n",
    "**To receive an input from the user, we use `input()`.**.\n",
    "\n",
    "**Example**\n",
    "Receive two numbers as input from the user and calculate their power:\n",
    "```python\n",
    "base = input(\"Enter a base: \")\n",
    "exponent = input(\"Enter an exponent: \")\n",
    "result = float(base) ** float(exponent)\n",
    "print(f \"{base} to the power of {exponent} = {result}\")\n",
    "```"
   ]
  },
  {
   "cell_type": "code",
   "execution_count": 8,
   "metadata": {
    "scrolled": false
   },
   "outputs": [
    {
     "name": "stdout",
     "output_type": "stream",
     "text": [
      "Donner la base de votre triangfe2\n",
      "Donner la hauteur de votre triangfe3\n",
      "3.0\n",
      "Donner la valeur du cote a4\n",
      "Donner la valeur du cote b 5\n",
      "Donner la valeur du cote c5\n",
      "le perimetre du triangle est d =  14\n"
     ]
    }
   ],
   "source": [
    "ag = int(27)\n",
    "height= float(1.85)\n",
    "Base = int(input(\"Donner la base de votre triangfe\"))\n",
    "Hauteur = int(input(\"Donner la hauteur de votre triangfe\"))\n",
    "Air = (Base*Hauteur)/2\n",
    "print(Air)\n",
    "\n",
    "\n",
    "\n",
    "a=int(input(\"Donner la valeur du cote a\"))\n",
    "b = int(input(\"Donner la valeur du cote b \"))\n",
    "c = int(input(\"Donner la valeur du cote c\"))\n",
    "d = a+b+c\n",
    "print(\"le perimetre du triangle est d = \", d)"
   ]
  },
  {
   "cell_type": "markdown",
   "metadata": {},
   "source": [
    "**Exercise 04:** \n",
    "> **Write a small code that asks the user to enter the side $a$, the side $b$ and the side $c$ of a triangle. Calculate the perimeter of the triangle (perimeter = a + b + c).**"
   ]
  },
  {
   "cell_type": "markdown",
   "metadata": {},
   "source": [
    "**Exercise 05:** \n",
    "> **Obtain the length and width of a rectangle using the prompt. Calculate its `area`and its `perimeter`.**"
   ]
  },
  {
   "cell_type": "code",
   "execution_count": 11,
   "metadata": {},
   "outputs": [
    {
     "name": "stdout",
     "output_type": "stream",
     "text": [
      "donnerla longeur de votre rectangle2\n",
      "donnerla largeur de votre rectangle3\n",
      "L'aire du rectangle est A =  6.0\n",
      "le perimetre du rectangle est P = 10.0\n"
     ]
    }
   ],
   "source": [
    "L = float(input(\"donnerla longeur de votre rectangle\"))\n",
    "l = float(input(\"donnerla largeur de votre rectangle\"))\n",
    "A = L*l\n",
    "P = 2*(L+l)\n",
    "print (\"L'aire du rectangle est A = \",A)\n",
    "print(\"le perimetre du rectangle est P =\",P)\n"
   ]
  },
  {
   "cell_type": "markdown",
   "metadata": {},
   "source": [
    "**Exercice 06:** \n",
    "> **Obtenez le rayon d'un cercle en utilisant l'invite. Calculez l'aire (aire = pi x r x r) et la circonférence (c = 2 x pi x r) où pi = 3,14.**"
   ]
  },
  {
   "cell_type": "code",
   "execution_count": 9,
   "metadata": {},
   "outputs": [
    {
     "name": "stdout",
     "output_type": "stream",
     "text": [
      "Donner le rayons de votre cercle5\n",
      "L'aire du cercle est A = 78.5\n",
      "La circonference du cercle est A = 31.400000000000002\n"
     ]
    }
   ],
   "source": [
    "r = float(input(\"Donner le rayons de votre cercle\"))\n",
    "A = 3.14*r*r\n",
    "C = 2*3.14*r\n",
    "\n",
    "print(\"L'aire du cercle est A =\", A)\n",
    "print(\"La circonference du cercle est A =\", C)"
   ]
  },
  {
   "cell_type": "markdown",
   "metadata": {},
   "source": [
    "**Exercice 07:**\n",
    "> **Calculez la pente, l'ordonnée à l'origine en x et l'ordonnée à l'origine en $y$ de $y = 2x -2$.**"
   ]
  },
  {
   "cell_type": "code",
   "execution_count": 13,
   "metadata": {},
   "outputs": [
    {
     "name": "stdout",
     "output_type": "stream",
     "text": [
      "donne la valeur de x11\n",
      "donne la valeur de x23\n",
      "La pente est ; -1.5\n"
     ]
    }
   ],
   "source": [
    "X_1 = float(input(\"donne la valeur de x1\"))\n",
    "X_2 = float(input(\"donne la valeur de x2\"))\n",
    "Y_1 = 2+X_1 - 2\n",
    "Y_2 = 2*X_2 - 2\n",
    "pente = (Y_2-Y_1)/(X_1-X_2)\n",
    "print(\"La pente est ;\",pente)"
   ]
  },
  {
   "cell_type": "markdown",
   "metadata": {},
   "source": [
    "**Exercice 08:** \n",
    "> **Rédigez un script qui demande à l'utilisateur d'entrer les heures et le taux horaire. Calculez la rémunération de la personne ?**"
   ]
  },
  {
   "cell_type": "code",
   "execution_count": 14,
   "metadata": {},
   "outputs": [
    {
     "name": "stdout",
     "output_type": "stream",
     "text": [
      "Donner vos heures de travail5\n",
      "donner votre taux horaire5000\n",
      "Votre renumeration est  25000\n"
     ]
    }
   ],
   "source": [
    "H = int(input(\"Donner vos heures de travail\"))\n",
    "T = int(input(\"donner votre taux horaire\"))\n",
    "print(\"Votre renumeration est \",H*T)"
   ]
  },
  {
   "cell_type": "markdown",
   "metadata": {},
   "source": [
    "**Exercice 09:** \n",
    "> **Écrivez un script qui demande à l'utilisateur d'entrer le nombre d'années. Calculez le nombre de secondes qu'une personne peut vivre. Supposons qu'une personne puisse vivre cent ans.**"
   ]
  },
  {
   "cell_type": "code",
   "execution_count": 10,
   "metadata": {},
   "outputs": [
    {
     "name": "stdout",
     "output_type": "stream",
     "text": [
      "Donner le nombre d'annees5\n",
      "Tu as vecu  155520000 secondes\n"
     ]
    }
   ],
   "source": [
    "A= int(input(\"Donner le nombre d'annees\"))\n",
    "while A >100:\n",
    "    A= int(input(\"Donner le nombre d'annees\"))\n",
    "print(\"Tu as vecu \",A*60*60*24*360,\"secondes\")  \n",
    "    \n"
   ]
  },
  {
   "cell_type": "markdown",
   "metadata": {},
   "source": [
    "**Exercice 10:** \n",
    "> **Écrivez un script Python qui affiche le tableau suivant**\n",
    "\n",
    "    1 1 1 1 1\n",
    "    \n",
    "    2 1 2 4 8\n",
    "    \n",
    "    3 1 3 9 27\n",
    "    \n",
    "    4 1 4 16 64\n",
    "    \n",
    "    5 1 5 25 125"
   ]
  },
  {
   "cell_type": "code",
   "execution_count": 8,
   "metadata": {},
   "outputs": [
    {
     "name": "stdout",
     "output_type": "stream",
     "text": [
      "1 1 1 1 1\n",
      "2 1 2 4 8\n",
      "3 1 3 9 27\n",
      "4 1 4 16 64\n",
      "5 1 5 25 125\n"
     ]
    }
   ],
   "source": [
    "b=1\n",
    "print(b,b,b,b,b)\n",
    "print(b+1,b,b+1,b+3,b+7)\n",
    "print(b+2,b,b+2,b+8,b+26)\n",
    "print(b+3,b,b+3,b+15,b+63)\n",
    "print(b+4,b,b+4,b+24,b+124)"
   ]
  },
  {
   "cell_type": "markdown",
   "metadata": {},
   "source": [
    "**Exercise 11:** \n",
    ">**Assign the variables `time` and `distance` with the values $6.892$ and $19.7$. Calculate and display the value of the speed. Improve the display by imposing a digit after the decimal point.**"
   ]
  },
  {
   "cell_type": "code",
   "execution_count": 43,
   "metadata": {},
   "outputs": [
    {
     "name": "stdout",
     "output_type": "stream",
     "text": [
      "la valeur de la viotesse est : 0.3498477157360406\n",
      "a un cfiffre apres la viegule, V =  0.3498477157360406\n"
     ]
    }
   ],
   "source": [
    "time = 6.892\n",
    "distance = 19.7\n",
    "V = time/distance\n",
    "print(\"la valeur de la viotesse est :\",time/distance)\n",
    "print(\"a un cfiffre apres la viegule, V = \",V)\n"
   ]
  },
  {
   "cell_type": "markdown",
   "metadata": {},
   "source": [
    "**Exercice 12:** \n",
    "> **Écrire un programme qui, à partir de la saisie d’un rayon et d’une hauteur, calcule levolume d’un cône droit.**"
   ]
  },
  {
   "cell_type": "code",
   "execution_count": 75,
   "metadata": {},
   "outputs": [
    {
     "name": "stdout",
     "output_type": "stream",
     "text": [
      "Donner le rayon du cercle2\n",
      "Donner lo hauteur du cercle5\n",
      "Le volume du cone est: v = 20.943951023931955\n"
     ]
    }
   ],
   "source": [
    "from math import pi\n",
    "r= int(input(\"Donner le rayon du cercle\"))\n",
    "h= int(input(\"Donner lo hauteur du cercle\"))\n",
    "V = (pi*r*r*h)/3\n",
    "print(\"Le volume du cone est: v =\",V)"
   ]
  },
  {
   "cell_type": "markdown",
   "metadata": {},
   "source": [
    "**Exercise 13:** \n",
    "> **The user gives a positive integer and the program announces how many times in a row this integer is divisible by 2.**"
   ]
  },
  {
   "cell_type": "code",
   "execution_count": 47,
   "metadata": {},
   "outputs": [
    {
     "name": "stdout",
     "output_type": "stream",
     "text": [
      "Donner un entier789\n",
      "L'entier n est 394 fois divisible par 2\n"
     ]
    }
   ],
   "source": [
    "n =int(input(\"Donner un entier\"))\n",
    "v = n // 2\n",
    "print(\"L'entier n est\", v,\"fois divisible par 2\")"
   ]
  },
  {
   "cell_type": "markdown",
   "metadata": {},
   "source": [
    "**Exercise 14:** \n",
    ">**The user gives an integer between 2 and 12, the program gives the number of ways to do this by rolling two dice."
   ]
  },
  {
   "cell_type": "code",
   "execution_count": 9,
   "metadata": {},
   "outputs": [
    {
     "name": "stdout",
     "output_type": "stream",
     "text": [
      "Donner un entier compris entre 2 et 1259\n",
      "Donner un entier compris entre 2 et 121\n",
      "Donner un entier compris entre 2 et 127\n",
      "[(1, 6), (2, 5), (3, 4), (4, 3), (5, 2), (6, 1)]\n"
     ]
    }
   ],
   "source": [
    "n = int(input(\"Donner un entier compris entre 2 et 12\"))\n",
    "while  n < 2 or n > 12:\n",
    "   n = int(input(\"Donner un entier compris entre 2 et 12\"))\n",
    "V = [(a,b) for a in range(1,12) for b in range(1,12) if a+b == n]                                                                                                             \n",
    "print(V) "
   ]
  },
  {
   "cell_type": "markdown",
   "metadata": {},
   "source": [
    "**Exercice 15:** \n",
    "> **Utilisez la fonction d'entrée intégrée `input()` pour obtenir le `_prénom_`, le `_nom_`, le `_pays_d_origine` et l'`_age_` d'un utilisateur et stockez la valeur dans les noms des variables correspondantes.**"
   ]
  },
  {
   "cell_type": "code",
   "execution_count": null,
   "metadata": {},
   "outputs": [],
   "source": [
    "P = input(\"Donner votre prenom.\")\n",
    "N = input(\"Doner votre nom.\")\n",
    "O = input(\"Donner votre pays d'origine.\")\n",
    "A = input(\"Donner votre age.\")\n",
    "print(\"Prenom:\",P)\n",
    "print(\"Nom:\",N)\n",
    "print(\"Pays:\",O)\n",
    "print(\"Age:\",A)\n"
   ]
  },
  {
   "cell_type": "markdown",
   "metadata": {},
   "source": [
    "**Exercice 16:** \n",
    "\n",
    "**Déclarer $5$ comme `num_one` et $4$ comme `num_two`**\n",
    "\n",
    "   1. Additionner `num_one` et `num_two` et affecter la valeur à une variable `totale`.\n",
    "   2. Soustraire `num_two` de `num_one` et affecter la valeur à une variable `diff`.\n",
    "   3. Multipliez le `num_one` et le `num_two` et attribuez la valeur à une variable `produit`.\n",
    "   4. Divisez le `num_one` par le `num_two` et attribuez la valeur à une variable `division`.\n",
    "   5. Calculez `num_one` à la puissance de `num_two` et attribuez la valeur à une variable `exp`."
   ]
  },
  {
   "cell_type": "code",
   "execution_count": 4,
   "metadata": {},
   "outputs": [
    {
     "name": "stdout",
     "output_type": "stream",
     "text": [
      "totale =  9\n",
      "diff = -1\n",
      "produit = 20\n",
      "dinision = 1.25\n",
      "exp = 625\n"
     ]
    }
   ],
   "source": [
    "num_one = 5\n",
    "num_two = 4\n",
    "totale = num_one + num_two\n",
    "diff = num_two - num_one\n",
    "produit = num_one*num_two\n",
    "division = num_one/num_two\n",
    "exp = num_one**num_two\n",
    "print('totale = ',totale)\n",
    "print('diff =', diff)\n",
    "print(\"produit =\",produit)\n",
    "print(\"dinision =\",division)\n",
    "print(\"exp =\",exp)"
   ]
  },
  {
   "cell_type": "markdown",
   "metadata": {},
   "source": [
    "<center> <b> <span style=\"color:orange;\"> 🎉 FÉLICITATIONS! / CONGRATULATIONS! 🎉 </span> </b></center>"
   ]
  }
 ],
 "metadata": {
  "kernelspec": {
   "display_name": "Python 3",
   "language": "python",
   "name": "python3"
  },
  "language_info": {
   "codemirror_mode": {
    "name": "ipython",
    "version": 3
   },
   "file_extension": ".py",
   "mimetype": "text/x-python",
   "name": "python",
   "nbconvert_exporter": "python",
   "pygments_lexer": "ipython3",
   "version": "3.7.3"
  }
 },
 "nbformat": 4,
 "nbformat_minor": 5
}
