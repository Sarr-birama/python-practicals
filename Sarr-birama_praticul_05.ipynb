{
 "cells": [
  {
   "cell_type": "markdown",
   "metadata": {
    "id": "QYZn2ujP9tcA"
   },
   "source": [
    "\n",
    "\n",
    "    \n",
    "#    <center> <b> <span style=\"color:orange;\" >  `Python for Scientific Computing and Software Engineering ` </span> </b></center>\n",
    "\n",
    "\n",
    "## <center> <b> <span style=\"color:orange;\"> An Initiation to Programming using Python (Init2Py) </span> </b></center>\n",
    "\n",
    "### <center> <b> <span style=\"color:blue;\"> Travaux Pratiques: Fonctions</span> </b></center>\n",
    "\n"
   ]
  },
  {
   "cell_type": "markdown",
   "metadata": {
    "id": "iMDzVKcl9tcE"
   },
   "source": [
    "#### **Exercice 00:**  \n",
    "> **Écrire une fonction `cube` qui retourne le cube de son argument.**"
   ]
  },
  {
   "cell_type": "code",
   "execution_count": 36,
   "metadata": {
    "id": "EbftYW1V9tcF"
   },
   "outputs": [],
   "source": [
    "def cube(n):\n",
    "    return n**3"
   ]
  },
  {
   "cell_type": "code",
   "execution_count": 37,
   "metadata": {},
   "outputs": [
    {
     "data": {
      "text/plain": [
       "125"
      ]
     },
     "execution_count": 37,
     "metadata": {},
     "output_type": "execute_result"
    }
   ],
   "source": [
    "cube(5)"
   ]
  },
  {
   "cell_type": "markdown",
   "metadata": {
    "id": "m1ac89qS9tcH"
   },
   "source": [
    "#### **Exercice 01:**  \n",
    "> **Déclarez une fonction `ajouter_deux_nombres`. Elle prend deux paramètres et renvoie leur somme.**"
   ]
  },
  {
   "cell_type": "code",
   "execution_count": 38,
   "metadata": {
    "id": "E_AgGmNy9tcH"
   },
   "outputs": [],
   "source": [
    "def ajouter_deux_nombres(a,b):\n",
    "    return a + b\n",
    "    "
   ]
  },
  {
   "cell_type": "code",
   "execution_count": 39,
   "metadata": {},
   "outputs": [
    {
     "data": {
      "text/plain": [
       "14"
      ]
     },
     "execution_count": 39,
     "metadata": {},
     "output_type": "execute_result"
    }
   ],
   "source": [
    "ajouter_deux_nombres(8,6)"
   ]
  },
  {
   "cell_type": "markdown",
   "metadata": {
    "id": "PKjvAV4y9tcJ"
   },
   "source": [
    "#### **Exercice 02:**  \n",
    "> **L'aire d'un cercle se calcule comme suit : aire = pi x r x r avec pi=3,14. Écrivez une fonction `aire_du_cercle` qui prend le rayon en argument et calcule l'aire du cercle correspodant.**"
   ]
  },
  {
   "cell_type": "code",
   "execution_count": 40,
   "metadata": {
    "id": "AxGzHKXX9tcL"
   },
   "outputs": [],
   "source": [
    "def aire_du_cercle():\n",
    "    r = int(input(\"Donner le rayon du cercle\"))\n",
    "    pi = 3.14\n",
    "    aire = pi*r*r\n",
    "    print(\"l'aire du cercle est :\",aire,\"m^2\")"
   ]
  },
  {
   "cell_type": "code",
   "execution_count": 41,
   "metadata": {},
   "outputs": [
    {
     "name": "stdout",
     "output_type": "stream",
     "text": [
      "Donner le rayon du cercle7\n",
      "l'aire du cercle est : 153.86 m^2\n"
     ]
    }
   ],
   "source": [
    "aire_du_cercle()"
   ]
  },
  {
   "cell_type": "markdown",
   "metadata": {
    "id": "6OBRL3oj9tcL"
   },
   "source": [
    "#### **Exercice 03:**  \n",
    "> **La température en °C peut être convertie en °F à l'aide de cette formule : °F = (°C x 9/5) + 32. Écrivez une fonction `convert_celsius_en_fahrenheit` qui convertit les °C en °F**."
   ]
  },
  {
   "cell_type": "code",
   "execution_count": 21,
   "metadata": {
    "id": "LpDPEBxn9tcN"
   },
   "outputs": [],
   "source": [
    "def convert_celsius_en_fahrenheit():\n",
    "    TC = int(input(\"Donner la temperature en °C :\"))\n",
    "    F = (TC*9/5)+32\n",
    "    print(\"la temperature en degre Fahrenheit vaut :\",F)"
   ]
  },
  {
   "cell_type": "code",
   "execution_count": 22,
   "metadata": {},
   "outputs": [
    {
     "name": "stdout",
     "output_type": "stream",
     "text": [
      "Donner la temperature en °C :78\n",
      "la temperature en degre Fahrenheit vaut : 172.4\n"
     ]
    }
   ],
   "source": [
    "convert_celsius_en_fahrenheit()"
   ]
  },
  {
   "cell_type": "markdown",
   "metadata": {
    "id": "rJRPsZ2h9tcP"
   },
   "source": [
    "#### **Exercice 04:** \n",
    ">**Écrire une fonction somme avec un argument « tuple de longueur variable » qui calcule la somme des nombres contenus dans le tuple.Tester cette fonction par des appels avec différents tuples d’entiers ou de flottants.**"
   ]
  },
  {
   "cell_type": "code",
   "execution_count": 30,
   "metadata": {
    "id": "7qn8Czdc9tcP"
   },
   "outputs": [],
   "source": [
    "def somme():\n",
    "    s = input(\"Donner les valeurs des nombres du tuple\")\n",
    "    t = tuple(int(s[i]) for i in range(len(s)))\n",
    "    print(t)\n",
    "    print(\"La somme des nombres contenus dans le tuple est :\",sum(t))"
   ]
  },
  {
   "cell_type": "code",
   "execution_count": 31,
   "metadata": {},
   "outputs": [
    {
     "name": "stdout",
     "output_type": "stream",
     "text": [
      "Donner les valeurs des nombres du tuple145\n",
      "(1, 4, 5)\n",
      "La somme des nombres contenus dans le tuple est : 10\n"
     ]
    }
   ],
   "source": [
    "somme()"
   ]
  },
  {
   "cell_type": "markdown",
   "metadata": {
    "id": "kls1kYNh9tcR"
   },
   "source": [
    "#### **Exercice 05:** \n",
    ">**Ecrire `somme_liste` qui calcule la somme des nombres contenus dans une liste.Tester cette fonction par des appels avec différents listes d’entiers ou de flottants.**"
   ]
  },
  {
   "cell_type": "code",
   "execution_count": 34,
   "metadata": {
    "id": "khKG2ee49tcS"
   },
   "outputs": [],
   "source": [
    "def somme_liste():\n",
    "    s = input(\"Donner les  nombres contenus dans la liste.\")\n",
    "    t = list(int(s[i]) for i in range(len(s)))\n",
    "    print(t)\n",
    "    print(\"La somme des nombres contenus dans la liste est :\",sum(t))\n",
    "    "
   ]
  },
  {
   "cell_type": "code",
   "execution_count": 35,
   "metadata": {},
   "outputs": [
    {
     "name": "stdout",
     "output_type": "stream",
     "text": [
      "Donner les  nombres contenus dans la liste.789\n",
      "[7, 8, 9]\n",
      "La somme des nombres contenus dans la liste est : 24\n"
     ]
    }
   ],
   "source": [
    "somme_liste()"
   ]
  },
  {
   "cell_type": "markdown",
   "metadata": {
    "id": "l4gQECfk9tcS"
   },
   "source": [
    "#### **Exercice 06:** \n",
    ">**Écrire une fonction somme qui  prend en argument un entier $n$ et retourne la somme  des $n$-prémiers entiers naturels.**"
   ]
  },
  {
   "cell_type": "code",
   "execution_count": 33,
   "metadata": {
    "id": "KfbcZiGS9tcT"
   },
   "outputs": [],
   "source": [
    "def somm():\n",
    "    n = int(input(\"Donner la valeur de n :\"))\n",
    "    S = [i for i in range(n+1)]\n",
    "    print(sum(S))"
   ]
  },
  {
   "cell_type": "code",
   "execution_count": 34,
   "metadata": {},
   "outputs": [
    {
     "name": "stdout",
     "output_type": "stream",
     "text": [
      "Donner la valeur de n :5\n",
      "15\n"
     ]
    }
   ],
   "source": [
    "somm()"
   ]
  },
  {
   "cell_type": "markdown",
   "metadata": {
    "id": "tK9EsjZf9tcU"
   },
   "source": [
    "#### **Exercice 07:** \n",
    ">**Écrire une fonction `nom` qui demande à l'utilisateur d'entrer son nom ensuite son prénom et affiche son prénom suivit de son nom.**"
   ]
  },
  {
   "cell_type": "code",
   "execution_count": 1,
   "metadata": {
    "id": "REF7Fa939tcW"
   },
   "outputs": [],
   "source": [
    "def nom():\n",
    "    n = input('Donner votre nom :')\n",
    "    m = input('Donner votre prenom :')\n",
    "    print (m,n)"
   ]
  },
  {
   "cell_type": "code",
   "execution_count": 2,
   "metadata": {},
   "outputs": [
    {
     "name": "stdout",
     "output_type": "stream",
     "text": [
      "Donner votre nom :Sarr\n",
      "Donner votre prenom :Birama\n",
      "Birama Sarr\n"
     ]
    }
   ],
   "source": [
    "nom()"
   ]
  },
  {
   "cell_type": "markdown",
   "metadata": {
    "id": "YSwrwcEz9tcX"
   },
   "source": [
    "#### **Exercice 08:** \n",
    ">**Écrire une fonction `nom` qui demande à l'utilisateur d'entrer son nom ensuite son prénom et affiche son prénom suivit de son nom.**"
   ]
  },
  {
   "cell_type": "code",
   "execution_count": 9,
   "metadata": {
    "id": "mRk-8h1P9tcZ"
   },
   "outputs": [],
   "source": [
    "def nom():\n",
    "    a = input('Donner votre nom :')\n",
    "    b = input('Donner votre prenom :')\n",
    "    print (b,a)"
   ]
  },
  {
   "cell_type": "code",
   "execution_count": 10,
   "metadata": {},
   "outputs": [
    {
     "name": "stdout",
     "output_type": "stream",
     "text": [
      "Donner votre nom :Sarr\n",
      "Donner votre prenom :Birama\n",
      "Birama Sarr\n"
     ]
    }
   ],
   "source": [
    "nom()"
   ]
  },
  {
   "cell_type": "markdown",
   "metadata": {
    "id": "VYtzHXAd9tck"
   },
   "source": [
    "#### **Exercice 09:** \n",
    ">**Ecris une fonction `Maximum` qui renvoie le minimum de trois nombres.**"
   ]
  },
  {
   "cell_type": "code",
   "execution_count": 15,
   "metadata": {
    "id": "A4tQ-qQQ9tcl"
   },
   "outputs": [],
   "source": [
    "def max(a,b,c):\n",
    "    max = 0\n",
    "    if(a > b):\n",
    "        max = a\n",
    "    else:\n",
    "        max = b\n",
    "    if(max < c):\n",
    "            max = c\n",
    "    else:\n",
    "        max = max\n",
    "    print(\"Le maximum des trois nombre est : max(a,b,c) = \", max)"
   ]
  },
  {
   "cell_type": "code",
   "execution_count": 16,
   "metadata": {},
   "outputs": [
    {
     "name": "stdout",
     "output_type": "stream",
     "text": [
      "Le maximum des trois nombre est : max(a,b,c) =  5\n"
     ]
    }
   ],
   "source": [
    "max(5,4,3)"
   ]
  },
  {
   "cell_type": "markdown",
   "metadata": {
    "id": "gTpTAnGm9tcm"
   },
   "source": [
    "#### **Exercice 10:**\n",
    ">**Soit $f(x)=ax^2+bx+c$ un trinôme du second degré.**\n",
    " 1. **Ecris une fonction `Discriminant` qui calcule son discriminant.**\n",
    " 2. **Ecris ensuite une fonction `existence_des_racines_du_trinome` qui discute suivant les valeurs du discriminant, l'existence de ses racines.** \n"
   ]
  },
  {
   "cell_type": "code",
   "execution_count": 9,
   "metadata": {},
   "outputs": [],
   "source": [
    "def Discriminant(a,b,c):\n",
    "    d = b**2 -(4*a*c)\n",
    "    print(\"Le discriminant du trinome est :\",d)\n"
   ]
  },
  {
   "cell_type": "code",
   "execution_count": 10,
   "metadata": {},
   "outputs": [
    {
     "name": "stdout",
     "output_type": "stream",
     "text": [
      "Le discriminant du trinome est : -24\n"
     ]
    }
   ],
   "source": [
    "Discriminant(5,6,3)"
   ]
  },
  {
   "cell_type": "code",
   "execution_count": 12,
   "metadata": {},
   "outputs": [],
   "source": [
    "def exist(a,b,c):\n",
    "    d = b**2 -(4*a*c)\n",
    "    if d >= 0 :\n",
    "        print(\"le trinome admet deux racines distinctes\")\n",
    "    elif d == 0:\n",
    "        print(\"le trinome admet une racine double\")\n",
    "    else:\n",
    "        print(\"le trinome admet deux racines complexes\")"
   ]
  },
  {
   "cell_type": "code",
   "execution_count": 14,
   "metadata": {},
   "outputs": [
    {
     "name": "stdout",
     "output_type": "stream",
     "text": [
      "le trinome admet deux racines complexe\n"
     ]
    }
   ],
   "source": [
    "exist(5,6,3)"
   ]
  },
  {
   "cell_type": "markdown",
   "metadata": {
    "id": "WgJ06GHA9tcn"
   },
   "source": [
    "#### **Exercice 11:**\n",
    ">**Ecris une fonction qui affiche le reste de la division euclidienne d'un entier naturel $a$ par un entier naturel $b$**.\n"
   ]
  },
  {
   "cell_type": "code",
   "execution_count": 17,
   "metadata": {
    "id": "S1uM-Jca9tcn"
   },
   "outputs": [],
   "source": [
    "def reste(a,b):\n",
    "    print('le reste de la division de a par b est:',a%b)"
   ]
  },
  {
   "cell_type": "code",
   "execution_count": 18,
   "metadata": {},
   "outputs": [
    {
     "name": "stdout",
     "output_type": "stream",
     "text": [
      "le reste de la division de a par b est: 2\n"
     ]
    }
   ],
   "source": [
    "reste(8,3)"
   ]
  },
  {
   "cell_type": "markdown",
   "metadata": {
    "id": "dtC_cOVJ9tco"
   },
   "source": [
    "#### **Exercice 12:**\n",
    ">**Ecris une fonction `terme_suite_geometrique` qui affiche le n-ième terme d'une suite géométrique $(v_n)$ de premier terme $v_0$ et de raison $q$. Teste ce programme pour $v_0=2, q=3$ et $n=4$.**"
   ]
  },
  {
   "cell_type": "code",
   "execution_count": 25,
   "metadata": {
    "id": "TeLDRV8N9tco"
   },
   "outputs": [],
   "source": [
    "def tsg():\n",
    "    n = int(input(\"Entrer n :\"))\n",
    "    V0 = int(input(\"Donner le premier terme de la suite :\"))\n",
    "    q = int(input('donner la raisont de la suite :'))\n",
    "    print(\"la n-ième valeure de la suite est :\",V0*q**n)"
   ]
  },
  {
   "cell_type": "code",
   "execution_count": 26,
   "metadata": {},
   "outputs": [
    {
     "name": "stdout",
     "output_type": "stream",
     "text": [
      "Entrer n :4\n",
      "Donner le premier terme de la suite :2\n",
      "donner la raisont de la suite :3\n",
      "la n-ième valeure de la suite est : 162\n"
     ]
    }
   ],
   "source": [
    "tsg()"
   ]
  },
  {
   "cell_type": "markdown",
   "metadata": {
    "id": "GrmGuHwu9tco"
   },
   "source": [
    "#### **Exercice 13:**\n",
    ">**Écris une fonction `merci` prend en paramètre un `nom` et renvoie le message \"Merci pour votre présence à cet atelier,`nom`.**\n"
   ]
  },
  {
   "cell_type": "code",
   "execution_count": 27,
   "metadata": {
    "id": "NJ0z0iht9tco"
   },
   "outputs": [],
   "source": [
    "def merci():\n",
    "    nm = input(\"Donner votre nom\")\n",
    "    print(\"Merci pour votre présence à cet atelier\",nm)\n",
    "    "
   ]
  },
  {
   "cell_type": "code",
   "execution_count": 28,
   "metadata": {},
   "outputs": [
    {
     "name": "stdout",
     "output_type": "stream",
     "text": [
      "Donner votre nomSarr\n",
      "Merci pour votre présence à cet atelier Sarr\n"
     ]
    }
   ],
   "source": [
    "merci()"
   ]
  },
  {
   "cell_type": "markdown",
   "metadata": {
    "id": "T3jopRLc9tco"
   },
   "source": [
    "#### **Exercice 14:**\n",
    ">**Écris une fonction `ma_suite` qui définit la suite $(u_n)$ telle que  $$u_{n}=\\frac{2n^2+3n-1}{n+6}.$$\n",
    "Affiche son 5e terme.**\n"
   ]
  },
  {
   "cell_type": "code",
   "execution_count": 32,
   "metadata": {
    "id": "P1l82riw9tcp"
   },
   "outputs": [],
   "source": [
    "def ma_suite():\n",
    "    n = int(input(\"Donner le rang de la suite :\"))\n",
    "    Vn = (2*n**2 + 3*n - 1 )/(n + 6)\n",
    "    print (\"le son\", n,\"e terme de la suite vaut :\",Vn)"
   ]
  },
  {
   "cell_type": "code",
   "execution_count": 33,
   "metadata": {},
   "outputs": [
    {
     "name": "stdout",
     "output_type": "stream",
     "text": [
      "Donner le rang de la suite :5\n",
      "le son 5 e terme de la suite vaut : 5.818181818181818\n"
     ]
    }
   ],
   "source": [
    "ma_suite()"
   ]
  },
  {
   "cell_type": "markdown",
   "metadata": {
    "id": "SIizzU_A9tcp"
   },
   "source": [
    "\n",
    "\n",
    "<center> <b> <span style=\"color:orange;\"> 🎉 FÉLICITATIONS ! 🎉 </span> </b></center>"
   ]
  }
 ],
 "metadata": {
  "colab": {
   "name": "Exercices_04_Fonctions.ipynb",
   "provenance": []
  },
  "kernelspec": {
   "display_name": "Python 3",
   "language": "python",
   "name": "python3"
  },
  "language_info": {
   "codemirror_mode": {
    "name": "ipython",
    "version": 3
   },
   "file_extension": ".py",
   "mimetype": "text/x-python",
   "name": "python",
   "nbconvert_exporter": "python",
   "pygments_lexer": "ipython3",
   "version": "3.7.3"
  }
 },
 "nbformat": 4,
 "nbformat_minor": 5
}
